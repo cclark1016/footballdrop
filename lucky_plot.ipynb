{
 "cells": [
  {
   "cell_type": "code",
   "execution_count": 1,
   "metadata": {},
   "outputs": [],
   "source": [
    "import requests\n",
    "import pandas as pd\n",
    "import matplotlib.pyplot as plt\n",
    "import seaborn as sns"
   ]
  },
  {
   "cell_type": "markdown",
   "metadata": {},
   "source": [
    "### grab data"
   ]
  },
  {
   "cell_type": "code",
   "execution_count": 2,
   "metadata": {},
   "outputs": [],
   "source": [
    "league_id = 123456\n",
    "year = 2018\n",
    "swid = 'your swid'\n",
    "espn = 'your espn_s2'\n",
    "url = \"https://fantasy.espn.com/apis/v3/games/ffl/leagueHistory/\" + \\\n",
    "      str(league_id) + \"?seasonId=\" + str(year)\n",
    "\n",
    "r = requests.get(url,\n",
    "                 params={\"view\": \"mMatchup\"},\n",
    "                 cookies={\"SWID\": swid, \"espn_s2\": espn})\n",
    "# d = r.json()\n",
    "d = r.json()[0]"
   ]
  },
  {
   "cell_type": "markdown",
   "metadata": {},
   "source": [
    "### clean it up"
   ]
  },
  {
   "cell_type": "code",
   "execution_count": 3,
   "metadata": {},
   "outputs": [
    {
     "data": {
      "text/html": [
       "<div>\n",
       "<style scoped>\n",
       "    .dataframe tbody tr th:only-of-type {\n",
       "        vertical-align: middle;\n",
       "    }\n",
       "\n",
       "    .dataframe tbody tr th {\n",
       "        vertical-align: top;\n",
       "    }\n",
       "\n",
       "    .dataframe thead th {\n",
       "        text-align: right;\n",
       "    }\n",
       "</style>\n",
       "<table border=\"1\" class=\"dataframe\">\n",
       "  <thead>\n",
       "    <tr style=\"text-align: right;\">\n",
       "      <th></th>\n",
       "      <th>Week</th>\n",
       "      <th>Team1</th>\n",
       "      <th>Score1</th>\n",
       "      <th>Team2</th>\n",
       "      <th>Score2</th>\n",
       "      <th>Type</th>\n",
       "    </tr>\n",
       "  </thead>\n",
       "  <tbody>\n",
       "    <tr>\n",
       "      <th>0</th>\n",
       "      <td>1</td>\n",
       "      <td>5</td>\n",
       "      <td>84.0</td>\n",
       "      <td>12</td>\n",
       "      <td>91.0</td>\n",
       "      <td>Regular</td>\n",
       "    </tr>\n",
       "    <tr>\n",
       "      <th>1</th>\n",
       "      <td>1</td>\n",
       "      <td>13</td>\n",
       "      <td>123.0</td>\n",
       "      <td>1</td>\n",
       "      <td>109.0</td>\n",
       "      <td>Regular</td>\n",
       "    </tr>\n",
       "    <tr>\n",
       "      <th>2</th>\n",
       "      <td>1</td>\n",
       "      <td>15</td>\n",
       "      <td>130.0</td>\n",
       "      <td>9</td>\n",
       "      <td>140.0</td>\n",
       "      <td>Regular</td>\n",
       "    </tr>\n",
       "    <tr>\n",
       "      <th>3</th>\n",
       "      <td>1</td>\n",
       "      <td>2</td>\n",
       "      <td>128.0</td>\n",
       "      <td>14</td>\n",
       "      <td>139.0</td>\n",
       "      <td>Regular</td>\n",
       "    </tr>\n",
       "    <tr>\n",
       "      <th>4</th>\n",
       "      <td>1</td>\n",
       "      <td>3</td>\n",
       "      <td>98.0</td>\n",
       "      <td>4</td>\n",
       "      <td>131.0</td>\n",
       "      <td>Regular</td>\n",
       "    </tr>\n",
       "  </tbody>\n",
       "</table>\n",
       "</div>"
      ],
      "text/plain": [
       "   Week  Team1  Score1  Team2  Score2     Type\n",
       "0     1      5    84.0     12    91.0  Regular\n",
       "1     1     13   123.0      1   109.0  Regular\n",
       "2     1     15   130.0      9   140.0  Regular\n",
       "3     1      2   128.0     14   139.0  Regular\n",
       "4     1      3    98.0      4   131.0  Regular"
      ]
     },
     "execution_count": 3,
     "metadata": {},
     "output_type": "execute_result"
    }
   ],
   "source": [
    "df = [[\n",
    "        game['matchupPeriodId'],\n",
    "        game['home']['teamId'], game['home']['totalPoints'],\n",
    "        game['away']['teamId'], game['away']['totalPoints']\n",
    "    ] for game in d['schedule']]\n",
    "df = pd.DataFrame(df, columns=['Week', 'Team1', 'Score1', 'Team2', 'Score2'])\n",
    "df['Type'] = ['Regular' if w<=14 else 'Playoff' for w in df['Week']]\n",
    "df.head()"
   ]
  },
  {
   "cell_type": "markdown",
   "metadata": {},
   "source": [
    "### compute average score per week"
   ]
  },
  {
   "cell_type": "code",
   "execution_count": 4,
   "metadata": {},
   "outputs": [
    {
     "data": {
      "text/html": [
       "<div>\n",
       "<style scoped>\n",
       "    .dataframe tbody tr th:only-of-type {\n",
       "        vertical-align: middle;\n",
       "    }\n",
       "\n",
       "    .dataframe tbody tr th {\n",
       "        vertical-align: top;\n",
       "    }\n",
       "\n",
       "    .dataframe thead th {\n",
       "        text-align: right;\n",
       "    }\n",
       "</style>\n",
       "<table border=\"1\" class=\"dataframe\">\n",
       "  <thead>\n",
       "    <tr style=\"text-align: right;\">\n",
       "      <th></th>\n",
       "      <th>Week</th>\n",
       "      <th>Score</th>\n",
       "    </tr>\n",
       "  </thead>\n",
       "  <tbody>\n",
       "    <tr>\n",
       "      <th>0</th>\n",
       "      <td>1</td>\n",
       "      <td>117.3</td>\n",
       "    </tr>\n",
       "    <tr>\n",
       "      <th>1</th>\n",
       "      <td>2</td>\n",
       "      <td>103.1</td>\n",
       "    </tr>\n",
       "    <tr>\n",
       "      <th>2</th>\n",
       "      <td>3</td>\n",
       "      <td>116.2</td>\n",
       "    </tr>\n",
       "    <tr>\n",
       "      <th>3</th>\n",
       "      <td>4</td>\n",
       "      <td>116.1</td>\n",
       "    </tr>\n",
       "    <tr>\n",
       "      <th>4</th>\n",
       "      <td>5</td>\n",
       "      <td>113.6</td>\n",
       "    </tr>\n",
       "  </tbody>\n",
       "</table>\n",
       "</div>"
      ],
      "text/plain": [
       "   Week  Score\n",
       "0     1  117.3\n",
       "1     2  103.1\n",
       "2     3  116.2\n",
       "3     4  116.1\n",
       "4     5  113.6"
      ]
     },
     "execution_count": 4,
     "metadata": {},
     "output_type": "execute_result"
    }
   ],
   "source": [
    "# get average score per week\n",
    "avgs = (df\n",
    " .filter(['Week', 'Score1', 'Score2'])\n",
    " .melt(id_vars=['Week'], value_name='Score')\n",
    " .groupby('Week')\n",
    " .mean()\n",
    " .reset_index()\n",
    ")\n",
    "avgs.head()"
   ]
  },
  {
   "cell_type": "markdown",
   "metadata": {},
   "source": [
    "### plot"
   ]
  },
  {
   "cell_type": "code",
   "execution_count": 5,
   "metadata": {},
   "outputs": [
    {
     "data": {
      "image/png": "[encoded data removed]",
      "text/plain": [
       "<Figure size 576x576 with 1 Axes>"
      ]
     },
     "metadata": {},
     "output_type": "display_data"
    }
   ],
   "source": [
    "tm = 4\n",
    "\n",
    "# grab all games with this team\n",
    "df2 = df.query('Team1 == @tm | Team2 == @tm').reset_index(drop=True)\n",
    "\n",
    "# move the team of interest to \"Team1\" column\n",
    "ix = list(df2['Team2'] == tm)\n",
    "df2.loc[ix, ['Team1','Score1','Team2','Score2']] = \\\n",
    "    df2.loc[ix, ['Team2','Score2','Team1','Score1']].values\n",
    "\n",
    "# add new score and win cols\n",
    "df2 = (df2\n",
    " .assign(Chg1 = df2['Score1'] - avgs['Score'],\n",
    "         Chg2 = df2['Score2'] - avgs['Score'],\n",
    "         Win  = df2['Score1'] > df2['Score2'])\n",
    ")\n",
    "\n",
    "\n",
    "# VISUALIZATION\n",
    "\n",
    "fig, ax = plt.subplots(1,1, figsize=(8,8))\n",
    "\n",
    "z = 60\n",
    "\n",
    "ax.fill_between([0,z], 0, [0,z], facecolor='b', alpha=0.1)\n",
    "ax.fill_between([-z,0], -z, [-z,0], facecolor='b', alpha=0.1)\n",
    "ax.fill_between([0,z], [0,z], z, facecolor='r', alpha=0.1)\n",
    "ax.fill_between([-z,0], [-z,0], 0, facecolor='r', alpha=0.1)\n",
    "\n",
    "ax.scatter(data=df2.query('Win'), x='Chg1', y='Chg2', \n",
    "           c=['b' if t=='Regular' else 'r' for t in df2.query('Win')['Type']], \n",
    "           s=100,\n",
    "           marker='o',\n",
    "           label='Win')\n",
    "ax.scatter(data=df2.query('not Win'), x='Chg1', y='Chg2', \n",
    "           c=['b' if t=='Regular' else 'r' for t in df2.query('not Win')['Type']], \n",
    "           s=100,\n",
    "           marker='x',\n",
    "           label='Loss')\n",
    "ax.plot([-z,z],[-z,z], 'k--')\n",
    "\n",
    "# ax.legend()\n",
    "\n",
    "# center x/y axes on origin\n",
    "ax.spines['left'].set_position('zero')\n",
    "ax.spines['right'].set_color('none')\n",
    "ax.spines['bottom'].set_position('zero')\n",
    "ax.spines['top'].set_color('none')\n",
    "ax.yaxis.tick_left()\n",
    "ax.xaxis.tick_bottom()\n",
    "\n",
    "# remove origin ticklabels\n",
    "tx = list(range(-z,z+1,10))\n",
    "tx.remove(0)\n",
    "ax.yaxis.set(ticks=tx, ticklabels=tx)\n",
    "ax.xaxis.set(ticks=tx, ticklabels=tx)\n",
    "\n",
    "ax.tick_params(axis='x', colors='gray')\n",
    "ax.tick_params(axis='y', colors='gray')\n",
    "\n",
    "ax.text(z-10, -12, 'Points \\n  for', style='italic')\n",
    "ax.text(-18, z-10, ' Points \\nagainst', style='italic')\n",
    "ax.text(z/2-5, z-8, 'UNLUCKY\\n   LOSS', style='italic', color='red')\n",
    "ax.text(z-12, z/2-5, 'LUCKY\\n WIN', style='italic', color='blue')\n",
    "\n",
    "ax.set(title='Team #%d scores (centered at league average)' % tm)\n",
    "\n",
    "plt.show()"
   ]
  },
  {
   "cell_type": "code",
   "execution_count": null,
   "metadata": {},
   "outputs": [],
   "source": []
  }
 ],
 "metadata": {
  "kernelspec": {
   "display_name": "Python 3",
   "language": "python",
   "name": "python3"
  },
  "language_info": {
   "codemirror_mode": {
    "name": "ipython",
    "version": 3
   },
   "file_extension": ".py",
   "mimetype": "text/x-python",
   "name": "python",
   "nbconvert_exporter": "python",
   "pygments_lexer": "ipython3",
   "version": "3.5.2"
  }
 },
 "nbformat": 4,
 "nbformat_minor": 2
}
